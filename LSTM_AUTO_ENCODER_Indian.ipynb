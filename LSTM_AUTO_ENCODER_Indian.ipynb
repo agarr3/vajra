{
  "nbformat": 4,
  "nbformat_minor": 0,
  "metadata": {
    "colab": {
      "name": "LSTM_AUTO_ENCODER_Indian.ipynb",
      "provenance": [],
      "collapsed_sections": [],
      "include_colab_link": true
    },
    "kernelspec": {
      "name": "python3",
      "display_name": "Python 3"
    },
    "accelerator": "GPU"
  },
  "cells": [
    {
      "cell_type": "markdown",
      "metadata": {
        "id": "view-in-github",
        "colab_type": "text"
      },
      "source": [
        "<a href=\"https://colab.research.google.com/github/agarr3/vajra/blob/master/LSTM_AUTO_ENCODER_Indian.ipynb\" target=\"_parent\"><img src=\"https://colab.research.google.com/assets/colab-badge.svg\" alt=\"Open In Colab\"/></a>"
      ]
    },
    {
      "cell_type": "markdown",
      "metadata": {
        "id": "-4wFuMC7KlZ5"
      },
      "source": [
        "Just Like that test code -\n"
      ]
    },
    {
      "cell_type": "code",
      "metadata": {
        "colab": {
          "base_uri": "https://localhost:8080/"
        },
        "id": "jx6VOtLsx05z",
        "outputId": "43d58e6f-e738-4d33-a1c8-7cdfa4052979"
      },
      "source": [
        "import torch\n",
        "import torch.nn as nn\n",
        "\n",
        "input_dim = 5\n",
        "hidden_dim = 10\n",
        "n_layers = 1\n",
        "\n",
        "lstm_layer = nn.LSTM(input_dim, hidden_dim, n_layers, batch_first=True)\n",
        "\n",
        "batch_size = 2\n",
        "seq_len = 3\n",
        "\n",
        "inp = torch.randn(batch_size, seq_len, input_dim)\n",
        "hidden_state = torch.randn(n_layers, batch_size, hidden_dim)\n",
        "cell_state = torch.randn(n_layers, batch_size, hidden_dim)\n",
        "hidden = (hidden_state, cell_state)\n",
        "\n",
        "out, hidden = lstm_layer(inp, hidden)\n",
        "print(\"Output shape: \", out.shape)\n",
        "print(\"Hidden: \", hidden[1].shape)\n",
        "print(hidden[1].repeat(inp.shape).shape)\n",
        "print(hidden[1].repeat(inp.shape).shape[0])"
      ],
      "execution_count": 1,
      "outputs": [
        {
          "output_type": "stream",
          "text": [
            "Output shape:  torch.Size([2, 3, 10])\n",
            "Hidden:  torch.Size([1, 2, 10])\n",
            "torch.Size([2, 6, 50])\n",
            "2\n"
          ],
          "name": "stdout"
        }
      ]
    },
    {
      "cell_type": "markdown",
      "metadata": {
        "id": "uFrUGeQfRKSf"
      },
      "source": [
        "Start of the code. Mount Western dataset"
      ]
    },
    {
      "cell_type": "code",
      "metadata": {
        "colab": {
          "base_uri": "https://localhost:8080/"
        },
        "id": "OFChA9SfRFoI",
        "outputId": "4b55531a-805c-4aa5-a134-0a2ad85483eb"
      },
      "source": [
        "import torch\n",
        "\n",
        "from google.colab import drive\n",
        "drive.mount('/content/drive', force_remount=True)\n",
        "\n",
        "import numpy as np\n",
        "\n",
        "import os\n",
        "files = []\n",
        "exclusion = [\"098567.npy\",\"098569.npy\", '098565.npy']\n",
        "for r,d, fileList in os.walk(\"/content/drive/My Drive/Indian_numpy\"):\n",
        "  for file in fileList:\n",
        "    if(True):\n",
        "      files.append(os.path.join(r,file))\n",
        "    else:\n",
        "      print(file)\n",
        "\n",
        "    \n",
        "    # dimension = np.load(os.path.join(r,file),  mmap_mode='r')\n",
        "    # if(dimension.shape == (26,400)):\n",
        "    #   files.append(os.path.join(r,file))\n",
        "    # else:\n",
        "    #   print(file)\n",
        "\n",
        "(len(files))\n",
        "\n",
        "western_files = []\n",
        "exclusion = [\"098567.npy\",\"098569.npy\", '098565.npy']\n",
        "for r,d, fileList in os.walk(\"/content/drive/My Drive/Western_numpy\"):\n",
        "  for file in fileList:\n",
        "    if(file not in exclusion):\n",
        "      western_files.append(os.path.join(r,file))\n",
        "    else:\n",
        "      print(file)\n",
        "\n",
        "western_files = western_files[:2008]"
      ],
      "execution_count": 2,
      "outputs": [
        {
          "output_type": "stream",
          "text": [
            "Mounted at /content/drive\n",
            "098567.npy\n",
            "098569.npy\n",
            "098565.npy\n"
          ],
          "name": "stdout"
        }
      ]
    },
    {
      "cell_type": "code",
      "metadata": {
        "colab": {
          "base_uri": "https://localhost:8080/"
        },
        "id": "zjNOTukfPenn",
        "outputId": "30bf7091-e42b-4a6e-e6d4-88e7978fe2dd"
      },
      "source": [
        "print(len(files))\n",
        "print(len(western_files))"
      ],
      "execution_count": 4,
      "outputs": [
        {
          "output_type": "stream",
          "text": [
            "2008\n",
            "2008\n"
          ],
          "name": "stdout"
        }
      ]
    },
    {
      "cell_type": "markdown",
      "metadata": {
        "id": "hVJrGFZaQY3M"
      },
      "source": [
        "COnfiguration for Auto encoder"
      ]
    },
    {
      "cell_type": "code",
      "metadata": {
        "id": "2WJJyCNTQX2i"
      },
      "source": [
        "class configeration:\n",
        "  seq_len = 200\n",
        "  input_dim = 26\n",
        "  embedding_dim = 64\n",
        "  batch_size = 2\n",
        "  base_dir = \"/content/drive/My Drive/vajra/LSTM_AUTO_ENC_V1/MEL/Indian-balanced\"\n",
        "  loss_function = torch.nn.MSELoss(reduction='sum')\n",
        "  lr=1e-3\n",
        "  n_epochs = 90\n",
        "  model_file = \"/models/mel.pkl\"\n",
        "  results_dir = os.path.join(base_dir, \"./results\")\n",
        "  checkpoint_model_file = \"/models/mel_checkpoint.pkl\""
      ],
      "execution_count": 5,
      "outputs": []
    },
    {
      "cell_type": "code",
      "metadata": {
        "id": "YMIY6piUQdFN"
      },
      "source": [
        ""
      ],
      "execution_count": null,
      "outputs": []
    },
    {
      "cell_type": "markdown",
      "metadata": {
        "id": "DugjaCs-MgnM"
      },
      "source": [
        "Start of auto encoder for MEL"
      ]
    },
    {
      "cell_type": "code",
      "metadata": {
        "id": "24l5FIXJMj61"
      },
      "source": [
        "class Encoder(torch.nn.Module):\n",
        "  def __init__(self, seq_len, n_features, embedding_dim=64):\n",
        "    super(Encoder, self).__init__()\n",
        "    self.seq_len, self.n_features = seq_len, n_features\n",
        "    self.embedding_dim, self.hidden_dim = embedding_dim, 2 * embedding_dim\n",
        "    self.rnn1 = nn.LSTM(\n",
        "      input_size=n_features,\n",
        "      hidden_size=self.hidden_dim,\n",
        "      num_layers=1,\n",
        "      batch_first=True\n",
        "    )\n",
        "    self.rnn2 = nn.LSTM(\n",
        "      input_size=self.hidden_dim,\n",
        "      hidden_size=embedding_dim,\n",
        "      num_layers=1,\n",
        "      batch_first=True\n",
        "    )\n",
        "  def forward(self, x):\n",
        "    #x = x.reshape((1, self.seq_len, self.n_features))\n",
        "    #print(x.shape)\n",
        "    x, (_, _) = self.rnn1(x)\n",
        "    x, (hidden_n, _) = self.rnn2(x)\n",
        "    return x"
      ],
      "execution_count": 6,
      "outputs": []
    },
    {
      "cell_type": "code",
      "metadata": {
        "id": "mKkzWaX9Rrfr"
      },
      "source": [
        "class Decoder(torch.nn.Module):\n",
        "  def __init__(self, seq_len, embedding_dim=64, n_features=26):\n",
        "    super(Decoder, self).__init__()\n",
        "    self.seq_len, self.embedding_dim = seq_len, embedding_dim\n",
        "    self.hidden_dim, self.n_features = 2 * embedding_dim, n_features\n",
        "    self.rnn1 = nn.LSTM(\n",
        "      input_size=embedding_dim,\n",
        "      hidden_size=embedding_dim,\n",
        "      num_layers=1,\n",
        "      batch_first=True\n",
        "    )\n",
        "    self.rnn2 = nn.LSTM(\n",
        "      input_size=embedding_dim,\n",
        "      hidden_size=self.hidden_dim,\n",
        "      num_layers=1,\n",
        "      batch_first=True\n",
        "    )\n",
        "    self.output_layer = nn.Linear(self.hidden_dim * self.seq_len, n_features * self.seq_len)\n",
        "  def forward(self, x):\n",
        "    x, (hidden_n, cell_n) = self.rnn1(x)\n",
        "    x, (hidden_n, cell_n) = self.rnn2(x)\n",
        "    #print(\"in decoder\", x.shape)\n",
        "    x = x.contiguous()\n",
        "    x = x.view(x.shape[0], -1)\n",
        "    x = self.output_layer(x)\n",
        "    return x.reshape(x.shape[0],self.seq_len, self.n_features)"
      ],
      "execution_count": 7,
      "outputs": []
    },
    {
      "cell_type": "code",
      "metadata": {
        "id": "wsAO1Q2Dfhw-"
      },
      "source": [
        "class RecurrentAutoencoder(torch.nn.Module):\n",
        "  def __init__(self, seq_len, n_features, embedding_dim=64, device='cpu'):\n",
        "    super(RecurrentAutoencoder, self).__init__()\n",
        "    self.encoder = Encoder(seq_len, n_features, embedding_dim).to(device)\n",
        "    self.decoder = Decoder(seq_len, embedding_dim, n_features).to(device)\n",
        "  def forward(self, x):\n",
        "    x = self.encoder(x)\n",
        "    x = self.decoder(x)\n",
        "    return x"
      ],
      "execution_count": 8,
      "outputs": []
    },
    {
      "cell_type": "code",
      "metadata": {
        "colab": {
          "base_uri": "https://localhost:8080/"
        },
        "id": "SFuXClWuYbrg",
        "outputId": "cdf35f21-bbc8-4d2b-8687-8b3eb8923580"
      },
      "source": [
        "x = torch.randn(5, 26, 400)\n",
        "print(x.shape)\n",
        "x = x.permute(0, 2, 1)\n",
        "print(x.shape)\n",
        "\n",
        "encoder = Encoder(400, 26, 64)\n",
        "encoded = encoder(x)\n",
        "print(encoded.shape)\n",
        "\n",
        "decoder = Decoder(400, 64, 26)\n",
        "decoded = decoder(encoded)\n",
        "print(decoded.shape)\n",
        "\n",
        "rae = RecurrentAutoencoder(400, 26, 64)\n",
        "output = rae(x)\n",
        "\n",
        "print(output.shape)"
      ],
      "execution_count": 9,
      "outputs": [
        {
          "output_type": "stream",
          "text": [
            "torch.Size([5, 26, 400])\n",
            "torch.Size([5, 400, 26])\n",
            "torch.Size([5, 400, 64])\n",
            "torch.Size([5, 400, 26])\n",
            "torch.Size([5, 400, 26])\n"
          ],
          "name": "stdout"
        }
      ]
    },
    {
      "cell_type": "code",
      "metadata": {
        "id": "0euATWfXgh8z"
      },
      "source": [
        "from torch.utils.data import Dataset\n",
        "from torch.utils.data.dataloader import DataLoader\n",
        "from torch.utils.data.sampler import SequentialSampler\n",
        "\n",
        "class CustomDatasetMel(Dataset):\n",
        "\n",
        "    def __init__(self, dataList, labelList):\n",
        "        self.data = dataList\n",
        "        self.labels = labelList\n",
        "\n",
        "    def __len__(self):\n",
        "        return len(self.data)\n",
        "\n",
        "    def __getitem__(self, index):\n",
        "        import numpy as np\n",
        "        fileName = self.data[index]\n",
        "        \n",
        "        mel_spect = np.load(fileName)\n",
        "        data = torch.tensor(mel_spect[:,:200], dtype=torch.float)\n",
        "        data = data.permute(1, 0)\n",
        "        #data = torch.unsqueeze(data, dim =0)\n",
        "\n",
        "        label = torch.tensor(self.labels[index])\n",
        "        return data, label\n",
        "\n",
        "class CustomDatasetMNIST(Dataset):\n",
        "\n",
        "    def __init__(self, dataDF):\n",
        "        self.data = dataDF\n",
        "        \n",
        "    def __len__(self):\n",
        "        return len(self.data.index)\n",
        "\n",
        "    def __getitem__(self, index):\n",
        "        import numpy as np\n",
        "        \n",
        "        data = self.data.iloc[index][1:].tolist()\n",
        "        data = torch.tensor(data, dtype=torch.float)\n",
        "        data = data.view(28,28)\n",
        "\n",
        "        label = self.data.iloc[index][0]\n",
        "        label = torch.tensor(label)\n",
        "        return data, label"
      ],
      "execution_count": 10,
      "outputs": []
    },
    {
      "cell_type": "code",
      "metadata": {
        "colab": {
          "base_uri": "https://localhost:8080/"
        },
        "id": "zPZOKtstqnY4",
        "outputId": "5e1ad71b-213d-4b1b-93af-b6c246db3bee"
      },
      "source": [
        "import torchvision\n",
        "import torch\n",
        "\n",
        "from torchvision import transforms, datasets\n",
        "from torch.utils.data import Dataset\n",
        "from torch.utils.data.dataloader import DataLoader\n",
        "from torch.utils.data.sampler import SequentialSampler\n",
        "\n",
        "from six.moves import urllib\n",
        "opener = urllib.request.build_opener()\n",
        "opener.addheaders = [('User-agent', 'Mozilla/5.0')]\n",
        "urllib.request.install_opener(opener)\n",
        "\n",
        "def load_mnist(path='/content/drive/My Drive/vajra/LSTM_AUTO_ENC_V1/MNIST_TEST/data', download=False, batch_size=100, shift_pixels=2):\n",
        "        \"\"\"\n",
        "        Construct dataloaders for training and test data. Data augmentation is also done here.\n",
        "        :param path: file path of the dataset\n",
        "        :param download: whether to download the original data\n",
        "        :param batch_size: batch size\n",
        "        :param shift_pixels: maximum number of pixels to shift in each direction\n",
        "        :return: train_loader, test_loader\n",
        "        \"\"\"\n",
        "        kwargs = {'num_workers': 1, 'pin_memory': True}\n",
        "\n",
        "        train_loader = torch.utils.data.DataLoader(\n",
        "            datasets.MNIST(path, train=True, download=download,\n",
        "                           transform=transforms.Compose([transforms.RandomCrop(size=28, padding=shift_pixels),\n",
        "                                                         transforms.ToTensor()])),\n",
        "            batch_size=batch_size, shuffle=True, **kwargs)\n",
        "        test_loader = torch.utils.data.DataLoader(\n",
        "            datasets.MNIST(path, train=False, download=download,\n",
        "                           transform=transforms.ToTensor()),\n",
        "            batch_size=batch_size, shuffle=True, **kwargs)\n",
        "\n",
        "        return train_loader, test_loader\n",
        "\n",
        "train_loader, test_loader = load_mnist(download=False)\n",
        "\n",
        "\n",
        "# path='/content/drive/My Drive/vajra/LSTM_AUTO_ENC_V1/MNIST_TEST/data'\n",
        "# mnist = datasets.MNIST(path, train=True, download=False,\n",
        "#                            transform=transforms.Compose([transforms.RandomCrop(size=28, padding=2),\n",
        "#                                                          transforms.ToTensor()]))\n",
        "\n",
        "# print(mnist.__getitem__(1)[0].shape)\n",
        "\n",
        "import pandas as pd\n",
        "train_df = pd.read_csv(\"/content/drive/My Drive/vajra/LSTM_AUTO_ENC_V1/MNIST_TEST/data/MNIST/mnist_train.csv\")\n",
        "print(train_df.iloc[0][1:].tolist())\n",
        "\n",
        "import numpy as np \n",
        "from PIL import Image\n",
        "\n",
        "# array = np.array(train_df.iloc[0][1:].tolist())\n",
        "\n",
        "# array = np.reshape(array, (28, 28))\n",
        "# print(array)\n",
        "# data = Image.fromarray(np.uint8(array)).convert('RGB')\n",
        "# data\n",
        "\n",
        "train_df.iloc[0]\n"
      ],
      "execution_count": null,
      "outputs": [
        {
          "output_type": "stream",
          "text": [
            "[0, 0, 0, 0, 0, 0, 0, 0, 0, 0, 0, 0, 0, 0, 0, 0, 0, 0, 0, 0, 0, 0, 0, 0, 0, 0, 0, 0, 0, 0, 0, 0, 0, 0, 0, 0, 0, 0, 0, 0, 0, 0, 0, 0, 0, 0, 0, 0, 0, 0, 0, 0, 0, 0, 0, 0, 0, 0, 0, 0, 0, 0, 0, 0, 0, 0, 0, 0, 0, 0, 0, 0, 0, 0, 0, 0, 0, 0, 0, 0, 0, 0, 0, 0, 0, 0, 0, 0, 0, 0, 0, 0, 0, 0, 0, 0, 0, 0, 0, 0, 0, 0, 0, 0, 0, 0, 0, 0, 0, 0, 0, 0, 0, 0, 0, 0, 0, 0, 0, 0, 0, 0, 0, 0, 0, 0, 0, 0, 0, 0, 0, 0, 0, 0, 0, 0, 0, 0, 0, 0, 0, 0, 0, 0, 0, 0, 0, 0, 0, 0, 0, 0, 3, 18, 18, 18, 126, 136, 175, 26, 166, 255, 247, 127, 0, 0, 0, 0, 0, 0, 0, 0, 0, 0, 0, 0, 30, 36, 94, 154, 170, 253, 253, 253, 253, 253, 225, 172, 253, 242, 195, 64, 0, 0, 0, 0, 0, 0, 0, 0, 0, 0, 0, 49, 238, 253, 253, 253, 253, 253, 253, 253, 253, 251, 93, 82, 82, 56, 39, 0, 0, 0, 0, 0, 0, 0, 0, 0, 0, 0, 0, 18, 219, 253, 253, 253, 253, 253, 198, 182, 247, 241, 0, 0, 0, 0, 0, 0, 0, 0, 0, 0, 0, 0, 0, 0, 0, 0, 0, 0, 80, 156, 107, 253, 253, 205, 11, 0, 43, 154, 0, 0, 0, 0, 0, 0, 0, 0, 0, 0, 0, 0, 0, 0, 0, 0, 0, 0, 0, 14, 1, 154, 253, 90, 0, 0, 0, 0, 0, 0, 0, 0, 0, 0, 0, 0, 0, 0, 0, 0, 0, 0, 0, 0, 0, 0, 0, 0, 0, 139, 253, 190, 2, 0, 0, 0, 0, 0, 0, 0, 0, 0, 0, 0, 0, 0, 0, 0, 0, 0, 0, 0, 0, 0, 0, 0, 0, 11, 190, 253, 70, 0, 0, 0, 0, 0, 0, 0, 0, 0, 0, 0, 0, 0, 0, 0, 0, 0, 0, 0, 0, 0, 0, 0, 0, 0, 35, 241, 225, 160, 108, 1, 0, 0, 0, 0, 0, 0, 0, 0, 0, 0, 0, 0, 0, 0, 0, 0, 0, 0, 0, 0, 0, 0, 0, 81, 240, 253, 253, 119, 25, 0, 0, 0, 0, 0, 0, 0, 0, 0, 0, 0, 0, 0, 0, 0, 0, 0, 0, 0, 0, 0, 0, 0, 45, 186, 253, 253, 150, 27, 0, 0, 0, 0, 0, 0, 0, 0, 0, 0, 0, 0, 0, 0, 0, 0, 0, 0, 0, 0, 0, 0, 0, 16, 93, 252, 253, 187, 0, 0, 0, 0, 0, 0, 0, 0, 0, 0, 0, 0, 0, 0, 0, 0, 0, 0, 0, 0, 0, 0, 0, 0, 0, 249, 253, 249, 64, 0, 0, 0, 0, 0, 0, 0, 0, 0, 0, 0, 0, 0, 0, 0, 0, 0, 0, 0, 0, 0, 46, 130, 183, 253, 253, 207, 2, 0, 0, 0, 0, 0, 0, 0, 0, 0, 0, 0, 0, 0, 0, 0, 0, 0, 0, 0, 39, 148, 229, 253, 253, 253, 250, 182, 0, 0, 0, 0, 0, 0, 0, 0, 0, 0, 0, 0, 0, 0, 0, 0, 0, 0, 24, 114, 221, 253, 253, 253, 253, 201, 78, 0, 0, 0, 0, 0, 0, 0, 0, 0, 0, 0, 0, 0, 0, 0, 0, 0, 23, 66, 213, 253, 253, 253, 253, 198, 81, 2, 0, 0, 0, 0, 0, 0, 0, 0, 0, 0, 0, 0, 0, 0, 0, 0, 18, 171, 219, 253, 253, 253, 253, 195, 80, 9, 0, 0, 0, 0, 0, 0, 0, 0, 0, 0, 0, 0, 0, 0, 0, 0, 55, 172, 226, 253, 253, 253, 253, 244, 133, 11, 0, 0, 0, 0, 0, 0, 0, 0, 0, 0, 0, 0, 0, 0, 0, 0, 0, 0, 136, 253, 253, 253, 212, 135, 132, 16, 0, 0, 0, 0, 0, 0, 0, 0, 0, 0, 0, 0, 0, 0, 0, 0, 0, 0, 0, 0, 0, 0, 0, 0, 0, 0, 0, 0, 0, 0, 0, 0, 0, 0, 0, 0, 0, 0, 0, 0, 0, 0, 0, 0, 0, 0, 0, 0, 0, 0, 0, 0, 0, 0, 0, 0, 0, 0, 0, 0, 0, 0, 0, 0, 0, 0, 0, 0, 0, 0, 0, 0, 0, 0, 0, 0, 0, 0, 0, 0, 0, 0, 0, 0, 0, 0, 0, 0, 0, 0, 0, 0, 0, 0, 0, 0, 0, 0, 0, 0]\n"
          ],
          "name": "stdout"
        },
        {
          "output_type": "execute_result",
          "data": {
            "text/plain": [
              "label    5\n",
              "1x1      0\n",
              "1x2      0\n",
              "1x3      0\n",
              "1x4      0\n",
              "        ..\n",
              "28x24    0\n",
              "28x25    0\n",
              "28x26    0\n",
              "28x27    0\n",
              "28x28    0\n",
              "Name: 0, Length: 785, dtype: int64"
            ]
          },
          "metadata": {
            "tags": []
          },
          "execution_count": 11
        }
      ]
    },
    {
      "cell_type": "code",
      "metadata": {
        "id": "3ulPqlTz0Fw8"
      },
      "source": [
        "import copy\n",
        "import math\n",
        "import numpy as np\n",
        "\n",
        "import torch\n",
        "\n",
        "class TrainingWrapper:\n",
        "\n",
        "  def __init__(self, config, training_loader, test_loader, device, val_loader=None):\n",
        "    self.config = config\n",
        "    self.training_loader = training_loader\n",
        "    self.test_loader = test_loader\n",
        "    self.val_loader = val_loader\n",
        "    self.device = device\n",
        "    self.model = RecurrentAutoencoder(self.config.seq_len, self.config.input_dim, self.config.embedding_dim, device=self.device)\n",
        "    self.model = self.model.to(self.device)\n",
        "    self.optimizer = torch.optim.Adam(self.model.parameters(), lr=self.config.lr)\n",
        "    self.criterion = self.config.loss_function.to(self.device)\n",
        "    self.history = dict(train=[], val=[], cross_val=[])\n",
        "    self.best_model_wts = copy.deepcopy(self.model.state_dict())\n",
        "    self.best_loss = 10000.0\n",
        "    print(self.config.base_dir + self.config.model_file)\n",
        "    torch.save(self.model.state_dict(), self.config.base_dir + self.config.model_file)\n",
        "\n",
        "  def combine_images(self, generated_images):\n",
        "    num = generated_images.shape[0]\n",
        "    width = int(math.sqrt(num))\n",
        "    height = int(math.ceil(float(num)/width))\n",
        "    shape = generated_images.shape[1:3]\n",
        "    image = np.zeros((height*shape[0], width*shape[1]),\n",
        "                     dtype=generated_images.dtype)\n",
        "    for index, img in enumerate(generated_images):\n",
        "        i = int(index/width)\n",
        "        j = index % width\n",
        "        image[i*shape[0]:(i+1)*shape[0], j*shape[1]:(j+1)*shape[1]] = \\\n",
        "            img[:, :, 0]\n",
        "    return image\n",
        "\n",
        "\n",
        "  def show_reconstruction(self, test_loader, n_images):\n",
        "    import matplotlib.pyplot as plt\n",
        "    \n",
        "    from PIL import Image\n",
        "    import numpy as np\n",
        "\n",
        "    self.model.eval()\n",
        "    for x, _ in self.test_loader:\n",
        "        x = x[:min(n_images, x.size(0))].to(self,device)\n",
        "        _, x_recon = self.model(x)\n",
        "        data = np.concatenate([x.data.cpu(), x_recon.data.cpu()])\n",
        "        img = self.combine_images(np.transpose(data, [0, 2, 3, 1]))\n",
        "        image = img * 255\n",
        "        Image.fromarray(image.astype(np.uint8)).save(self.config.base_dir + \"/real_and_recon.png\")\n",
        "        print()\n",
        "        print('Reconstructed images are saved to %s/real_and_recon.png' % self.config.base_dir)\n",
        "        print('-' * 70)\n",
        "        plt.imshow(plt.imread(self.config.base_dir + \"/real_and_recon.png\", ))\n",
        "        plt.show()\n",
        "        break\n",
        "\n",
        "  def visualizeTraining(self, epoch, trn_losses, tst_losses, val_losses, save_dir):\n",
        "    # visualize the loss as the network trained\n",
        "    print(\"trn_losses..... \",trn_losses)\n",
        "    print(\"tst_losses..... \",tst_losses)\n",
        "    import matplotlib.pyplot as plt\n",
        "    fig = plt.figure(figsize=(10, 8))\n",
        "    plt.plot(range(0, len(trn_losses)), trn_losses, label='Training Loss')\n",
        "    if tst_losses:\n",
        "      plt.plot(range(0, len(tst_losses)), tst_losses, label='Validation Loss')\n",
        "    if val_losses:\n",
        "      plt.plot(range(0, len(val_losses)), val_losses, label='Cross Validation Loss')\n",
        "    minposs = tst_losses.index(min(tst_losses))\n",
        "    plt.axvline(minposs, linestyle='--', color='r', label='Early Stopping Checkpoint')\n",
        "\n",
        "\n",
        "    plt.xlabel('epochs')\n",
        "    plt.ylabel('loss')\n",
        "    # plt.ylim(0, 0.5)  # consistent scale\n",
        "    # plt.xlim(0, len(trn_losses))  # consistent scale\n",
        "    plt.grid(True)\n",
        "    plt.legend()\n",
        "    plt.tight_layout()\n",
        "    plt.show()\n",
        "    fig.savefig(os.path.join(save_dir , 'loss_plot_{}.png'.format(epoch)), bbox_inches='tight')\n",
        "\n",
        "  def train(self):\n",
        "    for epoch in range(1, self.config.n_epochs + 1):\n",
        "      self.model = self.model.train()\n",
        "      train_losses = []\n",
        "\n",
        "      for i, (x, y) in enumerate(self.training_loader):\n",
        "        self.optimizer.zero_grad()\n",
        "        x = x.to(self.device)\n",
        "        y = y.to(self.device)\n",
        "\n",
        "        output = self.model(x)\n",
        "        loss = self.criterion(output, x)\n",
        "\n",
        "        loss.backward()\n",
        "        self.optimizer.step()\n",
        "        train_losses.append(loss.item())\n",
        "        print(\"in training loop, epoch {}, step {}, the loss is {}\".format(epoch, i, loss.item()))\n",
        "\n",
        "      val_losses = []\n",
        "      self.model = self.model.eval()\n",
        "      with torch.no_grad():\n",
        "        for i, (x, y) in enumerate(self.test_loader):\n",
        "          x = x.to(device)\n",
        "          y = y.to(device)\n",
        "          output = self.model(x)\n",
        "          loss = self.criterion(output, x)\n",
        "          val_losses.append(loss.item())\n",
        "\n",
        "      cross_val_losses = []\n",
        "      self.model = self.model.eval()\n",
        "      with torch.no_grad():\n",
        "        for i, (x, y) in enumerate(self.val_loader):\n",
        "          x = x.to(device)\n",
        "          y = y.to(device)\n",
        "          output = self.model(x)\n",
        "          loss = self.criterion(output, x)\n",
        "          cross_val_losses.append(loss.item())\n",
        "\n",
        "\n",
        "      train_loss = np.mean(train_losses)\n",
        "      val_loss = np.mean(val_losses)\n",
        "      cross_val_loss = np.mean(cross_val_losses)\n",
        "\n",
        "      self.history['train'].append(train_loss)\n",
        "      self.history['val'].append(val_loss)\n",
        "      self.history['cross_val'].append(cross_val_loss)\n",
        "\n",
        "      if val_loss < self.best_loss:\n",
        "        self.best_loss = val_loss\n",
        "        self.best_model_wts = copy.deepcopy(self.model.state_dict())\n",
        "      if epoch % 2 == 0:\n",
        "        self.visualizeTraining(epoch, trn_losses= self.history['train'], tst_losses=self.history['val'], val_losses =self.history['cross_val'], save_dir=self.config.base_dir + \"/results\")\n",
        "        torch.save(self.model.state_dict(), self.config.base_dir + self.config.checkpoint_model_file)\n",
        "      print(f'Epoch {epoch}: train loss {train_loss} val loss {val_loss}')\n",
        "    self.model.load_state_dict(self.best_model_wts)\n",
        "    torch.save(self.model.state_dict(), self.config.base_dir + self.config.model_file)\n",
        "    return self.model.eval(), self.history\n",
        "\n",
        "  \n",
        "class TestingWrapper:\n",
        "  def __init__(self, config, device):\n",
        "    self.config = config\n",
        "    self.device = device\n",
        "    self.model = RecurrentAutoencoder(self.config.seq_len, self.config.input_dim, self.config.embedding_dim, device=self.device)\n",
        "    PATH = self.config.base_dir + self.config.checkpoint_model_file\n",
        "    print(PATH)\n",
        "    self.model.load_state_dict(torch.load(PATH, map_location=self.device))\n",
        "    self.model = self.model.to(self.device)\n",
        "\n",
        "  def combine_images(self, generated_images):\n",
        "    num = generated_images.shape[0]\n",
        "    width = int(math.sqrt(num))\n",
        "    height = int(math.ceil(float(num)/width))\n",
        "    shape = generated_images.shape[1:3]\n",
        "    image = np.zeros((height*shape[0], width*shape[1]),\n",
        "                     dtype=generated_images.dtype)\n",
        "    for index, img in enumerate(generated_images):\n",
        "        i = int(index/width)\n",
        "        j = index % width\n",
        "        image[i*shape[0]:(i+1)*shape[0], j*shape[1]:(j+1)*shape[1]] = \\\n",
        "            img[:, :, 0]\n",
        "    return image\n",
        "\n",
        "\n",
        "  def show_reconstruction(self, test_loader, n_images):\n",
        "    import matplotlib.pyplot as plt\n",
        "    \n",
        "    from PIL import Image\n",
        "    import numpy as np\n",
        "\n",
        "    self.model.eval()\n",
        "    for x, _ in test_loader:\n",
        "      x = x[:min(n_images, x.size(0))].to(self.device)\n",
        "      x_recon = self.model(x)\n",
        "      data = np.concatenate([x.data.cpu(), x_recon.data.cpu()])\n",
        "      img = self.combine_images(np.transpose(data, [0, 2, 3, 1]))\n",
        "      image = img * 255\n",
        "      Image.fromarray(image.astype(np.uint8)).save(self.config.base_dir + \"/real_and_recon.png\")\n",
        "      print()\n",
        "      print('Reconstructed images are saved to %s/real_and_recon.png' % self.config.base_dir)\n",
        "      print('-' * 70)\n",
        "      plt.imshow(plt.imread(self.config.base_dir + \"/real_and_recon.png\", ))\n",
        "      plt.show()\n",
        "      break\n",
        "\n",
        "  def save_reconstruction(self, test_loader):\n",
        "    import matplotlib.pyplot as plt\n",
        "    \n",
        "    from PIL import Image\n",
        "    import numpy as np\n",
        "    import uuid\n",
        "\n",
        "\n",
        "    self.model.eval()\n",
        "    with torch.no_grad(): \n",
        "      fileCount = 0\n",
        "      for x, _ in test_loader:\n",
        "        x = x.to(self.device)\n",
        "        x_recon = self.model(x)\n",
        "        x_recon = x_recon.data.cpu().detach().numpy()\n",
        "        for mel in x_recon:\n",
        "          print(mel.shape)\n",
        "          unique_filename = str(uuid.uuid4())\n",
        "          filename = self.config.base_dir + \"/reconstruction/\" + unique_filename + \".npy\"\n",
        "          np.save(filename, mel)\n",
        "          fileCount = fileCount + 1\n",
        "          print(\"saving file {} with index {}\".format(filename, fileCount))\n",
        "\n",
        "\n",
        "\n",
        "mode = 'train'\n",
        "data = \"mel\"\n",
        "#data = \"mnist\"\n",
        "config = configeration()\n",
        "device = torch.device(\"cuda\" if torch.cuda.is_available() else \"cpu\")\n",
        "\n",
        "def seed_everything(seed=1234):\n",
        "  import random\n",
        "  import os\n",
        "  random.seed(seed)\n",
        "  torch.manual_seed(seed)\n",
        "  torch.cuda.manual_seed_all(seed)\n",
        "  np.random.seed(seed)\n",
        "  os.environ['PYTHONHASHSEED'] = str(seed)\n",
        "  torch.backends.cudnn.deterministic = True\n",
        "\n",
        "seed_everything()\n",
        "\n",
        "if data==\"mnist\":\n",
        "  config.seq_len = 28\n",
        "  config.input_dim = 28\n",
        "  config.embedding_dim = 64\n",
        "  config.batch_size = 100\n",
        "  config.base_dir = \"/content/drive/My Drive/vajra/LSTM_AUTO_ENC_V1/MNIST_TEST\"\n",
        "  config.model_file = \"/models/mnist.pkl\"\n",
        "  config.results_dir = os.path.join(config.base_dir, \"./results\")\n",
        "  \n",
        "  #train_loader, test_loader = load_mnist(os.path.join(config.base_dir, \"./data\"), download=False, batch_size=config.batch_size)\n",
        "  train_df = pd.read_csv(\"/content/drive/My Drive/vajra/LSTM_AUTO_ENC_V1/MNIST_TEST/data/MNIST/mnist_train.csv\")\n",
        "  test_df = pd.read_csv(\"/content/drive/My Drive/vajra/LSTM_AUTO_ENC_V1/MNIST_TEST/data/MNIST/mnist_test.csv\")\n",
        "\n",
        "  train_dataset = CustomDatasetMNIST(train_df)\n",
        "  test_data_set = CustomDatasetMNIST(test_df)\n",
        "\n",
        "  train_loader = DataLoader(train_dataset,\n",
        "                                  batch_size=config.batch_size,\n",
        "                                  sampler=SequentialSampler(train_dataset), drop_last=False)\n",
        "\n",
        "  test_loader = DataLoader(test_data_set,\n",
        "                                batch_size=config.batch_size,\n",
        "                                sampler=SequentialSampler(test_data_set), drop_last=False)\n",
        "\n",
        "else:\n",
        "  train_data = files\n",
        "  labels = [1] * len(files)\n",
        "\n",
        "  val_data = western_files\n",
        "  val_labels = [1] * len(western_files)\n",
        "\n",
        "  train_dataset = CustomDatasetMel(train_data, labels)\n",
        "  test_data_set = CustomDatasetMel(train_data, labels)\n",
        "  val_data_set = CustomDatasetMel(val_data, val_labels)\n",
        "\n",
        "  train_loader = DataLoader(train_dataset,\n",
        "                                  batch_size=config.batch_size,\n",
        "                                  sampler=SequentialSampler(train_dataset), drop_last=False)\n",
        "\n",
        "  test_loader = DataLoader(test_data_set,\n",
        "                                batch_size=config.batch_size,\n",
        "                                sampler=SequentialSampler(test_data_set), drop_last=False)\n",
        "  \n",
        "  val_loader = DataLoader(val_data_set,\n",
        "                                batch_size=config.batch_size,\n",
        "                                sampler=SequentialSampler(val_data_set), drop_last=False)\n",
        "\n",
        "\n",
        "if mode==\"train\":\n",
        "  trainingWrapper = TrainingWrapper(config=config, training_loader=train_loader, test_loader=test_loader, device=device, val_loader=val_loader)\n",
        "  model, history = trainingWrapper.train()\n",
        "\n",
        "  if data==\"mnist\":\n",
        "    #trainingWrapper.show_reconstruction(test_loader=test_loader, n_images=50)\n",
        "    pass\n",
        "\n",
        "elif mode=='test':\n",
        "  testWrapper = TestingWrapper(config=config, device=device)\n",
        "  testWrapper.save_reconstruction(test_loader)\n",
        "\n"
      ],
      "execution_count": null,
      "outputs": []
    },
    {
      "cell_type": "code",
      "metadata": {
        "id": "FBo9PfN9EOAr"
      },
      "source": [
        "import numpy as np \n",
        "from PIL import Image\n",
        "\n",
        "model = RecurrentAutoencoder(28, 28, 64, device=device)\n",
        "PATH = \"/content/drive/My Drive/vajra/LSTM_AUTO_ENC_V1/MNIST_TEST/models/mnist.pkl\"\n",
        "print(PATH)\n",
        "model.load_state_dict(torch.load(PATH, map_location=device))\n",
        "model = model.to(device)\n",
        "\n",
        "array = np.array(train_df.iloc[0][1:].tolist())\n",
        "\n",
        "array = np.reshape(array, (28, 28))\n",
        "array = torch.tensor(array,dtype=torch.float)\n",
        "array = array.unsqueeze(dim=0)\n",
        "array = array.to(device)\n",
        "print(array)\n",
        "array = model(array)\n",
        "print(array)\n",
        "array = array.squeeze(dim=0)\n",
        "data = Image.fromarray(np.uint8(array.cpu().detach().numpy())).convert('RGB')\n",
        "data"
      ],
      "execution_count": null,
      "outputs": []
    },
    {
      "cell_type": "code",
      "metadata": {
        "colab": {
          "base_uri": "https://localhost:8080/",
          "height": 619
        },
        "id": "rBeKH8m0wJsK",
        "outputId": "6b5cec6c-5e92-484d-d6c4-5a7968529cc2"
      },
      "source": [
        "def visualizeTrainingTest(epoch, trn_losses, tst_losses, save_dir):\n",
        "    # visualize the loss as the network trained\n",
        "    print(\"trn_losses..... \",trn_losses)\n",
        "    print(\"tst_losses..... \",tst_losses)\n",
        "    import matplotlib.pyplot as plt\n",
        "    fig = plt.figure(figsize=(10, 8))\n",
        "    plt.plot(range(0, len(trn_losses)), trn_losses, label='Training Loss')\n",
        "    if tst_losses:\n",
        "      plt.plot(range(0, len(tst_losses)), tst_losses, label='Validation Loss')\n",
        "    \n",
        "    minposs = tst_losses.index(min(tst_losses))\n",
        "    plt.axvline(minposs, linestyle='--', color='r', label='Early Stopping Checkpoint')\n",
        "\n",
        "\n",
        "    plt.xlabel('epochs')\n",
        "    plt.ylabel('loss')\n",
        "    # plt.ylim(0, 0.5)  # consistent scale\n",
        "    # plt.xlim(0, len(trn_losses))  # consistent scale\n",
        "    plt.grid(True)\n",
        "    plt.legend()\n",
        "    plt.tight_layout()\n",
        "    plt.show()\n",
        "\n",
        "# import matplotlib.pyplot as plt\n",
        "# fig = plt.figure(figsize=(10, 8))\n",
        "# trn_losses = [8,4,5]\n",
        "# plt.plot(range(0, len(trn_losses)), trn_losses, label='Training Loss')\n",
        "# plt.show()\n",
        "\n",
        "trn_losses = [8,4,5]\n",
        "\n",
        "visualizeTrainingTest(3,trn_losses,trn_losses,'/content/drive/My Drive/vajra/LSTM_AUTO_ENC_V1/MEL/Indian/models/')"
      ],
      "execution_count": null,
      "outputs": [
        {
          "output_type": "stream",
          "text": [
            "trn_losses.....  [8, 4, 5]\n",
            "tst_losses.....  [8, 4, 5]\n"
          ],
          "name": "stdout"
        },
        {
          "output_type": "display_data",
          "data": {
            "image/png": "[encoded data removed]",
            "text/plain": [
              "<Figure size 720x576 with 1 Axes>"
            ]
          },
          "metadata": {
            "tags": [],
            "needs_background": "light"
          }
        }
      ]
    }
  ]
}